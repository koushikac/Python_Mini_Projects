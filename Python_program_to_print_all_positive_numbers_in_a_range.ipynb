{
  "nbformat": 4,
  "nbformat_minor": 0,
  "metadata": {
    "colab": {
      "provenance": [],
      "authorship_tag": "ABX9TyPCNhUdNbhjvRQyWgAAWchY",
      "include_colab_link": true
    },
    "kernelspec": {
      "name": "python3",
      "display_name": "Python 3"
    },
    "language_info": {
      "name": "python"
    }
  },
  "cells": [
    {
      "cell_type": "markdown",
      "metadata": {
        "id": "view-in-github",
        "colab_type": "text"
      },
      "source": [
        "<a href=\"https://colab.research.google.com/github/koushikac/Python_Mini_Projects/blob/main/Python_program_to_print_all_positive_numbers_in_a_range.ipynb\" target=\"_parent\"><img src=\"https://colab.research.google.com/assets/colab-badge.svg\" alt=\"Open In Colab\"/></a>"
      ]
    },
    {
      "cell_type": "code",
      "source": [
        "\n",
        "#Write a Python program to print all positive numbers in a range\n",
        "list1 = [12, -7, 5, 64, -14]  \n",
        "list2 = [12, 14, -95, 3] \n",
        "def make(lis):\n",
        "    for x in lis:\n",
        "        if x<0:\n",
        "            lis.remove(x)\n",
        "make(list2)\n",
        "make(list1)\n",
        "print(list1)\n",
        "print(list2)"
      ],
      "metadata": {
        "colab": {
          "base_uri": "https://localhost:8080/"
        },
        "id": "hSr7R3G9m6F3",
        "outputId": "99d36f57-0d4f-40d3-8053-62471494e478"
      },
      "execution_count": 6,
      "outputs": [
        {
          "output_type": "stream",
          "name": "stdout",
          "text": [
            "[12, 5, 64]\n",
            "[12, 14, 3]\n"
          ]
        }
      ]
    }
  ]
}