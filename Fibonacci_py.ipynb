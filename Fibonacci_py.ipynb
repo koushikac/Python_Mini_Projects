{
  "nbformat": 4,
  "nbformat_minor": 0,
  "metadata": {
    "colab": {
      "provenance": [],
      "authorship_tag": "ABX9TyPliED/qX1yV25Qn4BWyA2b",
      "include_colab_link": true
    },
    "kernelspec": {
      "name": "python3",
      "display_name": "Python 3"
    },
    "language_info": {
      "name": "python"
    }
  },
  "cells": [
    {
      "cell_type": "markdown",
      "metadata": {
        "id": "view-in-github",
        "colab_type": "text"
      },
      "source": [
        "<a href=\"https://colab.research.google.com/github/koushikac/Python_Mini_Projects/blob/main/Fibonacci_py.ipynb\" target=\"_parent\"><img src=\"https://colab.research.google.com/assets/colab-badge.svg\" alt=\"Open In Colab\"/></a>"
      ]
    },
    {
      "cell_type": "code",
      "execution_count": null,
      "metadata": {
        "id": "t2-rs7qpo3I6"
      },
      "outputs": [],
      "source": [
        "list1=[]\n",
        "def fib(a,b,n):\n",
        "    if(n==0):\n",
        "        return\n",
        "    else:\n",
        "        temp=a+b\n",
        "        list1.append(temp)\n",
        "        fib(b,temp,n-1)\n",
        "n=int(input(\"enter the number to geneterate the Fibonacci series\\t\"))\n",
        "a=0\n",
        "b=1\n",
        "list1.append(a)\n",
        "list1.append(b)\n",
        "\n",
        "fib(a,b,n-2)\n",
        "print(\"Fibonnaci numbers are \")\n",
        "for x in list1:\n",
        "    print(x)"
      ]
    }
  ]
}