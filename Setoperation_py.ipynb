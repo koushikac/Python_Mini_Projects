{
  "nbformat": 4,
  "nbformat_minor": 0,
  "metadata": {
    "colab": {
      "provenance": [],
      "authorship_tag": "ABX9TyOBOPc8zZLhM8mHK4JoDW7F",
      "include_colab_link": true
    },
    "kernelspec": {
      "name": "python3",
      "display_name": "Python 3"
    },
    "language_info": {
      "name": "python"
    }
  },
  "cells": [
    {
      "cell_type": "markdown",
      "metadata": {
        "id": "view-in-github",
        "colab_type": "text"
      },
      "source": [
        "<a href=\"https://colab.research.google.com/github/koushikac/Python_Mini_Projects/blob/main/Setoperation_py.ipynb\" target=\"_parent\"><img src=\"https://colab.research.google.com/assets/colab-badge.svg\" alt=\"Open In Colab\"/></a>"
      ]
    },
    {
      "cell_type": "code",
      "execution_count": 1,
      "metadata": {
        "colab": {
          "base_uri": "https://localhost:8080/"
        },
        "id": "lqBil8o3pmfj",
        "outputId": "05e9b1fe-232b-402e-bad4-3d7fca4d0ce6"
      },
      "outputs": [
        {
          "output_type": "stream",
          "name": "stdout",
          "text": [
            "{0, 1, 2, 3, 4, 5, 6, 8}\n",
            "{2, 4}\n",
            "{0, 1, 3, 5, 6}\n",
            "{0, 1, 3, 5, 6, 8}\n"
          ]
        }
      ],
      "source": [
        "#program to perform the various set operations \n",
        "\n",
        "s1={0,1,2,3,4,5,6}\n",
        "s2={2,4,8}\n",
        "\n",
        "print(s1.union(s2)) #union\n",
        "\n",
        "print(s1.intersection(s2)) #intersection\n",
        "\n",
        "print(s1.difference(s2)) #difference\n",
        "\n",
        "print(s1.symmetric_difference(s2)) #symmetric_difference"
      ]
    }
  ]
}